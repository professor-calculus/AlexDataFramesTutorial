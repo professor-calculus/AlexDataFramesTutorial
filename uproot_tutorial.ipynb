{
 "cells": [
  {
   "cell_type": "markdown",
   "metadata": {},
   "source": [
    "# ROOT without ROOT!\n",
    "\n",
    "In this brief tutorial I'll go through opening a ROOT file, performing some basic cuts, saving our results to a dataframe and making some plots.\n",
    "\n",
    "This tutorial is on GitHub, and can be found at https://github.com/professor-calculus/AlexDataFramesTutorial.git\n",
    "\n",
    "If you have git lfs installed then you'll get the .root file when cloning. However, if not then scp from \n",
    "YOURUSERNAME@lxplus.cern.ch:/afs/cern.ch/work/a/atittert/public/delphes.root\n",
    "\n",
    "![alt text](./img.jpg)\n",
    "\n",
    "First let's load up our dependencies, we won't need many.\n",
    "Spoiler: ROOT isnt one of them!"
   ]
  },
  {
   "cell_type": "code",
   "execution_count": 1,
   "metadata": {},
   "outputs": [],
   "source": [
    "import math\n",
    "import pandas as pd\n",
    "import uproot\n",
    "from tqdm import tqdm_notebook as tqdm"
   ]
  },
  {
   "cell_type": "markdown",
   "metadata": {},
   "source": [
    "Now, let's open the ROOT file from Delphes:"
   ]
  },
  {
   "cell_type": "code",
   "execution_count": 2,
   "metadata": {},
   "outputs": [],
   "source": [
    "tree = uproot.open('./delphes.root')[\"Delphes\"]"
   ]
  },
  {
   "cell_type": "markdown",
   "metadata": {},
   "source": [
    "We can also take a look at the branches, and the leaves within each branch etc using keys():"
   ]
  },
  {
   "cell_type": "code",
   "execution_count": 3,
   "metadata": {},
   "outputs": [
    {
     "data": {
      "text/plain": [
       "[b'Event',\n",
       " b'Event_size',\n",
       " b'EventLHEF',\n",
       " b'EventLHEF_size',\n",
       " b'WeightLHEF',\n",
       " b'WeightLHEF_size',\n",
       " b'Particle',\n",
       " b'Particle_size',\n",
       " b'GenJet',\n",
       " b'GenJet_size',\n",
       " b'Jet',\n",
       " b'Jet_size',\n",
       " b'Electron',\n",
       " b'Electron_size',\n",
       " b'Photon',\n",
       " b'Photon_size',\n",
       " b'Muon',\n",
       " b'Muon_size',\n",
       " b'MissingET',\n",
       " b'MissingET_size',\n",
       " b'ScalarHT',\n",
       " b'ScalarHT_size']"
      ]
     },
     "execution_count": 3,
     "metadata": {},
     "output_type": "execute_result"
    }
   ],
   "source": [
    "tree.keys()"
   ]
  },
  {
   "cell_type": "code",
   "execution_count": 4,
   "metadata": {},
   "outputs": [
    {
     "data": {
      "text/plain": [
       "[b'Jet.fUniqueID',\n",
       " b'Jet.fBits',\n",
       " b'Jet.PT',\n",
       " b'Jet.Eta',\n",
       " b'Jet.Phi',\n",
       " b'Jet.T',\n",
       " b'Jet.Mass',\n",
       " b'Jet.DeltaEta',\n",
       " b'Jet.DeltaPhi',\n",
       " b'Jet.Flavor',\n",
       " b'Jet.FlavorAlgo',\n",
       " b'Jet.FlavorPhys',\n",
       " b'Jet.BTag',\n",
       " b'Jet.BTagAlgo',\n",
       " b'Jet.BTagPhys',\n",
       " b'Jet.TauTag',\n",
       " b'Jet.Charge',\n",
       " b'Jet.EhadOverEem',\n",
       " b'Jet.NCharged',\n",
       " b'Jet.NNeutrals',\n",
       " b'Jet.Beta',\n",
       " b'Jet.BetaStar',\n",
       " b'Jet.MeanSqDeltaR',\n",
       " b'Jet.PTD',\n",
       " b'Jet.FracPt[5]',\n",
       " b'Jet.Tau[5]',\n",
       " b'Jet.TrimmedP4[5]',\n",
       " b'Jet.PrunedP4[5]',\n",
       " b'Jet.SoftDroppedP4[5]',\n",
       " b'Jet.NSubJetsTrimmed',\n",
       " b'Jet.NSubJetsPruned',\n",
       " b'Jet.NSubJetsSoftDropped',\n",
       " b'Jet.Constituents',\n",
       " b'Jet.Particles',\n",
       " b'Jet.Area']"
      ]
     },
     "execution_count": 4,
     "metadata": {},
     "output_type": "execute_result"
    }
   ],
   "source": [
    "tree['Jet'].keys()"
   ]
  },
  {
   "cell_type": "markdown",
   "metadata": {},
   "source": [
    "Let's define some placeholder variables we'll use: arrays which will contain per-event information."
   ]
  },
  {
   "cell_type": "code",
   "execution_count": 5,
   "metadata": {},
   "outputs": [
    {
     "name": "stdout",
     "output_type": "stream",
     "text": [
      "Tree of 2000 entries read in\n"
     ]
    }
   ],
   "source": [
    "# Cuts: 200GeV MHT, 800GeV HT, >=3 jets, >=1 b-jet\n",
    "mht_min = 400.\n",
    "ht_min = 900.\n",
    "njet_min = 3\n",
    "nbjet_min = 2\n",
    "\n",
    "total_n_entries = len(tree['ScalarHT.HT'])\n",
    "print('Tree of {0} entries read in'.format(total_n_entries))"
   ]
  },
  {
   "cell_type": "markdown",
   "metadata": {},
   "source": [
    "### Iterating over a ROOT tree:\n",
    "\n",
    "To iterate over the ROOT tree we use the inventively titles 'iterate()' function in uproot."
   ]
  },
  {
   "cell_type": "code",
   "execution_count": 11,
   "metadata": {},
   "outputs": [
    {
     "data": {
      "application/vnd.jupyter.widget-view+json": {
       "model_id": "9bb4284c726d4654aea082736ffb0a17",
       "version_major": 2,
       "version_minor": 0
      },
      "text/plain": [
       "HBox(children=(IntProgress(value=1, bar_style='info', description='Go Go Go!', max=1, style=ProgressStyle(desc…"
      ]
     },
     "metadata": {},
     "output_type": "display_data"
    },
    {
     "name": "stdout",
     "output_type": "stream",
     "text": [
      "\n",
      "1176 of 2000 events (58.8%) passed all cuts\n"
     ]
    }
   ],
   "source": [
    "# Initialise the variables we'll write to:\n",
    "mht = [] # Missing HT: Vector sum of jet pT\n",
    "ht = [] # Scalar HT: Scalar sum of jet pT\n",
    "njets = [] # Number of jets which pass certain criteris (ID etc)\n",
    "nbjets = [] # Number of b-tagged jets...\n",
    "event_passes_bool = [] # Does event pass cuts?\n",
    "n_eventpass = 0 # Number of events which passed the cuts\n",
    "\n",
    "for HT, JetPt, JetEta, JetPhi, JetBtag in tqdm(uproot.iterate('./delphes.root', 'Delphes', [\"ScalarHT.HT\", \"Jet.PT\", \"Jet.Eta\", \"Jet.Phi\", \"Jet.BTag\"], outputtype=tuple), desc='Go Go Go!'):\n",
    "    for HT_i, JetPt_i, JetEta_i, JetPhi_i, JetBtag_i in zip(HT, JetPt, JetEta, JetPhi, JetBtag):\n",
    "        \n",
    "        # Reset some variables:\n",
    "        nJet = 0\n",
    "        nBJet = 0\n",
    "        mht_x = 0.\n",
    "        mht_y = 0.\n",
    "        \n",
    "        # Easy one first:\n",
    "        ht.append(HT_i[0])\n",
    "        \n",
    "        # Loop over the jets in the event\n",
    "        for JetPt_j, JetEta_j, JetPhi_j, JetBtag_j in zip(JetPt_i, JetEta_i, JetPhi_i, JetBtag_i):\n",
    "            # Only include central jets with decent pT to avoid pileup contributions etc\n",
    "            if JetPt_j > 40. and abs(JetEta_j) < 2.4:\n",
    "                nJet += 1\n",
    "                mht_x += -1. * JetPt_j * math.cos(JetPhi_j)\n",
    "                mht_y += JetPt_j * math.sin(JetPhi_j)\n",
    "                \n",
    "                # Does this jet have a b-tag?\n",
    "                if JetBtag_j:\n",
    "                    nBJet += 1\n",
    "        \n",
    "        # Missing-HT from its components\n",
    "        mht_tmp = math.sqrt(mht_x**2 + mht_y**2)\n",
    "        mht.append(mht_tmp)\n",
    "        \n",
    "        njets.append(nJet)\n",
    "        nbjets.append(nBJet)\n",
    "        \n",
    "        # Does this event pass all cuts?\n",
    "        pass_cuts = True\n",
    "        if mht_tmp < mht_min: pass_cuts = False\n",
    "        if HT_i[0] < ht_min: pass_cuts = False\n",
    "        if nJet < njet_min: pass_cuts = False\n",
    "        if nBJet < nbjet_min: pass_cuts = False\n",
    "        event_passes_bool.append(pass_cuts)\n",
    "        if pass_cuts: n_eventpass += 1\n",
    "        \n",
    "percentage = 100.*float(n_eventpass)/float(total_n_entries)\n",
    "print('{0} of {1} events ({2}%) passed all cuts'.format(n_eventpass, total_n_entries, percentage))"
   ]
  },
  {
   "cell_type": "markdown",
   "metadata": {},
   "source": [
    "## Writing the variables to a dataframe\n",
    "df.head() shows first 5 rows (events)"
   ]
  },
  {
   "cell_type": "code",
   "execution_count": 12,
   "metadata": {},
   "outputs": [
    {
     "data": {
      "text/html": [
       "<div>\n",
       "<style scoped>\n",
       "    .dataframe tbody tr th:only-of-type {\n",
       "        vertical-align: middle;\n",
       "    }\n",
       "\n",
       "    .dataframe tbody tr th {\n",
       "        vertical-align: top;\n",
       "    }\n",
       "\n",
       "    .dataframe thead th {\n",
       "        text-align: right;\n",
       "    }\n",
       "</style>\n",
       "<table border=\"1\" class=\"dataframe\">\n",
       "  <thead>\n",
       "    <tr style=\"text-align: right;\">\n",
       "      <th></th>\n",
       "      <th>HT</th>\n",
       "      <th>MHT</th>\n",
       "      <th>NBJets</th>\n",
       "      <th>NJets</th>\n",
       "      <th>Passes_Cuts</th>\n",
       "    </tr>\n",
       "  </thead>\n",
       "  <tbody>\n",
       "    <tr>\n",
       "      <th>0</th>\n",
       "      <td>1339.817749</td>\n",
       "      <td>486.756073</td>\n",
       "      <td>2</td>\n",
       "      <td>9</td>\n",
       "      <td>True</td>\n",
       "    </tr>\n",
       "    <tr>\n",
       "      <th>1</th>\n",
       "      <td>2539.739258</td>\n",
       "      <td>866.369924</td>\n",
       "      <td>3</td>\n",
       "      <td>8</td>\n",
       "      <td>True</td>\n",
       "    </tr>\n",
       "    <tr>\n",
       "      <th>2</th>\n",
       "      <td>2071.848633</td>\n",
       "      <td>636.202797</td>\n",
       "      <td>4</td>\n",
       "      <td>10</td>\n",
       "      <td>True</td>\n",
       "    </tr>\n",
       "    <tr>\n",
       "      <th>3</th>\n",
       "      <td>2112.030029</td>\n",
       "      <td>372.357679</td>\n",
       "      <td>3</td>\n",
       "      <td>8</td>\n",
       "      <td>False</td>\n",
       "    </tr>\n",
       "    <tr>\n",
       "      <th>4</th>\n",
       "      <td>1994.492554</td>\n",
       "      <td>1208.957270</td>\n",
       "      <td>5</td>\n",
       "      <td>7</td>\n",
       "      <td>True</td>\n",
       "    </tr>\n",
       "  </tbody>\n",
       "</table>\n",
       "</div>"
      ],
      "text/plain": [
       "            HT          MHT  NBJets  NJets  Passes_Cuts\n",
       "0  1339.817749   486.756073       2      9         True\n",
       "1  2539.739258   866.369924       3      8         True\n",
       "2  2071.848633   636.202797       4     10         True\n",
       "3  2112.030029   372.357679       3      8        False\n",
       "4  1994.492554  1208.957270       5      7         True"
      ]
     },
     "execution_count": 12,
     "metadata": {},
     "output_type": "execute_result"
    }
   ],
   "source": [
    "df = pd.DataFrame({\n",
    "    'HT': ht,\n",
    "    'MHT': mht,\n",
    "    'NJets': njets,\n",
    "    'NBJets': nbjets,\n",
    "    'Passes_Cuts': event_passes_bool,\n",
    "})\n",
    "df.head()\n",
    "#print(df)"
   ]
  },
  {
   "cell_type": "markdown",
   "metadata": {},
   "source": [
    "## Save output\n",
    "Save to a .txt file to access later"
   ]
  },
  {
   "cell_type": "code",
   "execution_count": 10,
   "metadata": {},
   "outputs": [],
   "source": [
    "df.to_csv('DataFrame.txt', sep='\\t', index=False)"
   ]
  },
  {
   "cell_type": "code",
   "execution_count": null,
   "metadata": {},
   "outputs": [],
   "source": []
  }
 ],
 "metadata": {
  "kernelspec": {
   "display_name": "Python 3",
   "language": "python",
   "name": "python3"
  },
  "language_info": {
   "codemirror_mode": {
    "name": "ipython",
    "version": 3
   },
   "file_extension": ".py",
   "mimetype": "text/x-python",
   "name": "python",
   "nbconvert_exporter": "python",
   "pygments_lexer": "ipython3",
   "version": "3.6.3"
  }
 },
 "nbformat": 4,
 "nbformat_minor": 2
}
