{
 "cells": [
  {
   "cell_type": "markdown",
   "metadata": {},
   "source": [
    "# ROOT without ROOT!\n",
    "\n",
    "In this brief tutorial I'll go through opening a ROOT file, performing some basic cuts, saving our results to a dataframe and making some plots.\n",
    "\n",
    "This tutorial is on GitHub, and can be found at https://github.com/professor-calculus/AlexDataFramesTutorial.git\n",
    "\n",
    "![alt text](./img.jpg)\n",
    "\n",
    "First let's load up our dependencies, we won't need many.\n",
    "Spoiler: ROOT isnt one of them!"
   ]
  },
  {
   "cell_type": "code",
   "execution_count": null,
   "metadata": {},
   "outputs": [],
   "source": [
    "import math\n",
    "import pandas as pd\n",
    "import uproot\n",
    "from tqdm import tqdm_notebook as tqdm"
   ]
  },
  {
   "cell_type": "markdown",
   "metadata": {},
   "source": [
    "Now, let's open the ROOT file from Delphes:"
   ]
  },
  {
   "cell_type": "code",
   "execution_count": null,
   "metadata": {},
   "outputs": [],
   "source": [
    "tree = uproot.open('./delphes.root')[\"Delphes\"]"
   ]
  },
  {
   "cell_type": "markdown",
   "metadata": {},
   "source": [
    "We can also take a look at the branches, and the leaves within each branch etc using keys():"
   ]
  },
  {
   "cell_type": "code",
   "execution_count": null,
   "metadata": {},
   "outputs": [],
   "source": [
    "tree.keys()"
   ]
  },
  {
   "cell_type": "code",
   "execution_count": null,
   "metadata": {},
   "outputs": [],
   "source": [
    "tree['Jet'].keys()"
   ]
  },
  {
   "cell_type": "markdown",
   "metadata": {},
   "source": [
    "Let's define some placeholder variables we'll use: arrays which will contain per-event information."
   ]
  },
  {
   "cell_type": "code",
   "execution_count": null,
   "metadata": {},
   "outputs": [],
   "source": [
    "# Cuts: 200GeV MHT, 800GeV HT, >=3 jets, >=1 b-jet\n",
    "mht_min = 400.\n",
    "ht_min = 900.\n",
    "njet_min = 3\n",
    "nbjet_min = 2\n",
    "\n",
    "total_n_entries = len(tree['ScalarHT.HT'])\n",
    "print('Tree of {0} entries read in'.format(total_n_entries))"
   ]
  },
  {
   "cell_type": "markdown",
   "metadata": {},
   "source": [
    "### Iterating over a ROOT tree:\n",
    "\n",
    "To iterate over the ROOT tree we use the inventively titles 'iterate()' function in uproot."
   ]
  },
  {
   "cell_type": "code",
   "execution_count": null,
   "metadata": {},
   "outputs": [],
   "source": [
    "# Initialise the variables we'll write to:\n",
    "mht = [] # Missing HT: Vector sum of jet pT\n",
    "ht = [] # Scalar HT: Scalar sum of jet pT\n",
    "njets = [] # Number of jets which pass certain criteris (ID etc)\n",
    "nbjets = [] # Number of b-tagged jets...\n",
    "event_passes_bool = [] # Does event pass cuts?\n",
    "n_eventpass = 0 # Number of events which passed the cuts\n",
    "\n",
    "for HT, JetPt, JetEta, JetPhi, JetBtag in tqdm(uproot.iterate('./delphes.root', 'Delphes', [\"ScalarHT.HT\", \"Jet.PT\", \"Jet.Eta\", \"Jet.Phi\", \"Jet.BTag\"], outputtype=tuple), desc='Go Go Go!'):\n",
    "    for HT_i, JetPt_i, JetEta_i, JetPhi_i, JetBtag_i in zip(HT, JetPt, JetEta, JetPhi, JetBtag):\n",
    "        \n",
    "        # Reset some variables:\n",
    "        nJet = 0\n",
    "        nBJet = 0\n",
    "        mht_x = 0.\n",
    "        mht_y = 0.\n",
    "        \n",
    "        # Easy one first:\n",
    "        ht.append(HT_i[0])\n",
    "        \n",
    "        # Loop over the jets in the event\n",
    "        for JetPt_j, JetEta_j, JetPhi_j, JetBtag_j in zip(JetPt_i, JetEta_i, JetPhi_i, JetBtag_i):\n",
    "            # Only include central jets with decent pT to avoid pileup contributions etc\n",
    "            if JetPt_j > 40. and abs(JetEta_j) < 2.4:\n",
    "                nJet += 1\n",
    "                mht_x += -1. * JetPt_j * math.cos(JetPhi_j)\n",
    "                mht_y += JetPt_j * math.sin(JetPhi_j)\n",
    "                \n",
    "                # Does this jet have a b-tag?\n",
    "                if JetBtag_j:\n",
    "                    nBJet += 1\n",
    "        \n",
    "        # Missing-HT from its components\n",
    "        mht_tmp = math.sqrt(mht_x**2 + mht_y**2)\n",
    "        mht.append(mht_tmp)\n",
    "        \n",
    "        njets.append(nJet)\n",
    "        nbjets.append(nBJet)\n",
    "        \n",
    "        # Does this event pass all cuts?\n",
    "        pass_cuts = True\n",
    "        if mht_tmp < mht_min: pass_cuts = False\n",
    "        if HT_i[0] < ht_min: pass_cuts = False\n",
    "        if nJet < njet_min: pass_cuts = False\n",
    "        if nBJet < nbjet_min: pass_cuts = False\n",
    "        event_passes_bool.append(pass_cuts)\n",
    "        if pass_cuts: n_eventpass += 1\n",
    "        \n",
    "percentage = 100.*float(n_eventpass)/float(total_n_entries)\n",
    "print('{0} of {1} events ({2}%) passed all cuts'.format(n_eventpass, total_n_entries, percentage))"
   ]
  },
  {
   "cell_type": "markdown",
   "metadata": {},
   "source": [
    "## Writing the variables to a dataframe\n",
    "df.head() shows first 5 rows (events)"
   ]
  },
  {
   "cell_type": "code",
   "execution_count": null,
   "metadata": {},
   "outputs": [],
   "source": [
    "df = pd.DataFrame({\n",
    "    'HT': ht,\n",
    "    'MHT': mht,\n",
    "    'NJets': njets,\n",
    "    'NBJets': nbjets,\n",
    "    'Passes_Cuts': event_passes_bool,\n",
    "})\n",
    "df.head()"
   ]
  },
  {
   "cell_type": "markdown",
   "metadata": {},
   "source": [
    "## Save output\n",
    "Save to a .txt file to access later"
   ]
  },
  {
   "cell_type": "code",
   "execution_count": null,
   "metadata": {},
   "outputs": [],
   "source": [
    "df.to_csv('DataFrame.txt', sep='\\t', index=False)"
   ]
  },
  {
   "cell_type": "code",
   "execution_count": null,
   "metadata": {},
   "outputs": [],
   "source": []
  }
 ],
 "metadata": {
  "kernelspec": {
   "display_name": "Python 3",
   "language": "python",
   "name": "python3"
  },
  "language_info": {
   "codemirror_mode": {
    "name": "ipython",
    "version": 3
   },
   "file_extension": ".py",
   "mimetype": "text/x-python",
   "name": "python",
   "nbconvert_exporter": "python",
   "pygments_lexer": "ipython3",
   "version": "3.6.3"
  }
 },
 "nbformat": 4,
 "nbformat_minor": 2
}
