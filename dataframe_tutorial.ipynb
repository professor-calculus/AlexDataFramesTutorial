{
 "cells": [
  {
   "cell_type": "markdown",
   "metadata": {},
   "source": [
    "# Plotting etc from dataframes\n",
    "\n",
    "Now we have a dataframe saved in a .txt file, so no need for any particular kinds of software to do stuff with it.\n",
    "\n",
    "![alt text](./img2.gif)\n",
    "\n",
    "First let's load up our dependencies, we won't need many."
   ]
  },
  {
   "cell_type": "code",
   "execution_count": 1,
   "metadata": {},
   "outputs": [],
   "source": [
    "import pandas as pd\n",
    "import matplotlib.pyplot as plt\n",
    "from matplotlib.colors import LogNorm\n",
    "import seaborn as sns"
   ]
  },
  {
   "cell_type": "markdown",
   "metadata": {},
   "source": [
    "Let's open the dataframe txt file:"
   ]
  },
  {
   "cell_type": "code",
   "execution_count": 2,
   "metadata": {},
   "outputs": [],
   "source": [
    "df = pd.read_csv('./DataFrame.txt', delimiter=r'\\s+', header='infer')"
   ]
  },
  {
   "cell_type": "markdown",
   "metadata": {},
   "source": [
    "Now we can just check it all read in ok:"
   ]
  },
  {
   "cell_type": "code",
   "execution_count": 3,
   "metadata": {},
   "outputs": [
    {
     "data": {
      "text/html": [
       "<div>\n",
       "<style scoped>\n",
       "    .dataframe tbody tr th:only-of-type {\n",
       "        vertical-align: middle;\n",
       "    }\n",
       "\n",
       "    .dataframe tbody tr th {\n",
       "        vertical-align: top;\n",
       "    }\n",
       "\n",
       "    .dataframe thead th {\n",
       "        text-align: right;\n",
       "    }\n",
       "</style>\n",
       "<table border=\"1\" class=\"dataframe\">\n",
       "  <thead>\n",
       "    <tr style=\"text-align: right;\">\n",
       "      <th></th>\n",
       "      <th>HT</th>\n",
       "      <th>MHT</th>\n",
       "      <th>NBJets</th>\n",
       "      <th>NJets</th>\n",
       "      <th>Passes_Cuts</th>\n",
       "    </tr>\n",
       "  </thead>\n",
       "  <tbody>\n",
       "    <tr>\n",
       "      <th>0</th>\n",
       "      <td>1339.817749</td>\n",
       "      <td>486.756073</td>\n",
       "      <td>2</td>\n",
       "      <td>9</td>\n",
       "      <td>True</td>\n",
       "    </tr>\n",
       "    <tr>\n",
       "      <th>1</th>\n",
       "      <td>2539.739258</td>\n",
       "      <td>866.369924</td>\n",
       "      <td>3</td>\n",
       "      <td>8</td>\n",
       "      <td>True</td>\n",
       "    </tr>\n",
       "    <tr>\n",
       "      <th>2</th>\n",
       "      <td>2071.848633</td>\n",
       "      <td>636.202797</td>\n",
       "      <td>4</td>\n",
       "      <td>10</td>\n",
       "      <td>True</td>\n",
       "    </tr>\n",
       "    <tr>\n",
       "      <th>3</th>\n",
       "      <td>2112.030029</td>\n",
       "      <td>372.357679</td>\n",
       "      <td>3</td>\n",
       "      <td>8</td>\n",
       "      <td>False</td>\n",
       "    </tr>\n",
       "    <tr>\n",
       "      <th>4</th>\n",
       "      <td>1994.492554</td>\n",
       "      <td>1208.957270</td>\n",
       "      <td>5</td>\n",
       "      <td>7</td>\n",
       "      <td>True</td>\n",
       "    </tr>\n",
       "  </tbody>\n",
       "</table>\n",
       "</div>"
      ],
      "text/plain": [
       "            HT          MHT  NBJets  NJets  Passes_Cuts\n",
       "0  1339.817749   486.756073       2      9         True\n",
       "1  2539.739258   866.369924       3      8         True\n",
       "2  2071.848633   636.202797       4     10         True\n",
       "3  2112.030029   372.357679       3      8        False\n",
       "4  1994.492554  1208.957270       5      7         True"
      ]
     },
     "execution_count": 3,
     "metadata": {},
     "output_type": "execute_result"
    }
   ],
   "source": [
    "df.head()"
   ]
  },
  {
   "cell_type": "markdown",
   "metadata": {},
   "source": [
    "Now we can apply some cuts on the variables and see what effect this has on other variables etc:"
   ]
  },
  {
   "cell_type": "code",
   "execution_count": 4,
   "metadata": {},
   "outputs": [],
   "source": [
    "df_chopped = df.query('HT > 900 & MHT > 400 & NJets > 2 & NBJets > 0')"
   ]
  },
  {
   "cell_type": "code",
   "execution_count": 5,
   "metadata": {},
   "outputs": [
    {
     "data": {
      "text/html": [
       "<div>\n",
       "<style scoped>\n",
       "    .dataframe tbody tr th:only-of-type {\n",
       "        vertical-align: middle;\n",
       "    }\n",
       "\n",
       "    .dataframe tbody tr th {\n",
       "        vertical-align: top;\n",
       "    }\n",
       "\n",
       "    .dataframe thead th {\n",
       "        text-align: right;\n",
       "    }\n",
       "</style>\n",
       "<table border=\"1\" class=\"dataframe\">\n",
       "  <thead>\n",
       "    <tr style=\"text-align: right;\">\n",
       "      <th></th>\n",
       "      <th>HT</th>\n",
       "      <th>MHT</th>\n",
       "      <th>NBJets</th>\n",
       "      <th>NJets</th>\n",
       "      <th>Passes_Cuts</th>\n",
       "    </tr>\n",
       "  </thead>\n",
       "  <tbody>\n",
       "    <tr>\n",
       "      <th>0</th>\n",
       "      <td>1339.817749</td>\n",
       "      <td>486.756073</td>\n",
       "      <td>2</td>\n",
       "      <td>9</td>\n",
       "      <td>True</td>\n",
       "    </tr>\n",
       "    <tr>\n",
       "      <th>1</th>\n",
       "      <td>2539.739258</td>\n",
       "      <td>866.369924</td>\n",
       "      <td>3</td>\n",
       "      <td>8</td>\n",
       "      <td>True</td>\n",
       "    </tr>\n",
       "    <tr>\n",
       "      <th>2</th>\n",
       "      <td>2071.848633</td>\n",
       "      <td>636.202797</td>\n",
       "      <td>4</td>\n",
       "      <td>10</td>\n",
       "      <td>True</td>\n",
       "    </tr>\n",
       "    <tr>\n",
       "      <th>4</th>\n",
       "      <td>1994.492554</td>\n",
       "      <td>1208.957270</td>\n",
       "      <td>5</td>\n",
       "      <td>7</td>\n",
       "      <td>True</td>\n",
       "    </tr>\n",
       "    <tr>\n",
       "      <th>5</th>\n",
       "      <td>1853.128906</td>\n",
       "      <td>896.764767</td>\n",
       "      <td>4</td>\n",
       "      <td>8</td>\n",
       "      <td>True</td>\n",
       "    </tr>\n",
       "  </tbody>\n",
       "</table>\n",
       "</div>"
      ],
      "text/plain": [
       "            HT          MHT  NBJets  NJets  Passes_Cuts\n",
       "0  1339.817749   486.756073       2      9         True\n",
       "1  2539.739258   866.369924       3      8         True\n",
       "2  2071.848633   636.202797       4     10         True\n",
       "4  1994.492554  1208.957270       5      7         True\n",
       "5  1853.128906   896.764767       4      8         True"
      ]
     },
     "execution_count": 5,
     "metadata": {},
     "output_type": "execute_result"
    }
   ],
   "source": [
    "df_chopped.head()"
   ]
  },
  {
   "cell_type": "markdown",
   "metadata": {},
   "source": [
    "Actually, we can take a shortcut there: the cuts we asked for are the same as asking for Passes_Cuts = True..."
   ]
  },
  {
   "cell_type": "code",
   "execution_count": 6,
   "metadata": {},
   "outputs": [
    {
     "data": {
      "text/html": [
       "<div>\n",
       "<style scoped>\n",
       "    .dataframe tbody tr th:only-of-type {\n",
       "        vertical-align: middle;\n",
       "    }\n",
       "\n",
       "    .dataframe tbody tr th {\n",
       "        vertical-align: top;\n",
       "    }\n",
       "\n",
       "    .dataframe thead th {\n",
       "        text-align: right;\n",
       "    }\n",
       "</style>\n",
       "<table border=\"1\" class=\"dataframe\">\n",
       "  <thead>\n",
       "    <tr style=\"text-align: right;\">\n",
       "      <th></th>\n",
       "      <th>HT</th>\n",
       "      <th>MHT</th>\n",
       "      <th>NBJets</th>\n",
       "      <th>NJets</th>\n",
       "      <th>Passes_Cuts</th>\n",
       "    </tr>\n",
       "  </thead>\n",
       "  <tbody>\n",
       "    <tr>\n",
       "      <th>0</th>\n",
       "      <td>1339.817749</td>\n",
       "      <td>486.756073</td>\n",
       "      <td>2</td>\n",
       "      <td>9</td>\n",
       "      <td>True</td>\n",
       "    </tr>\n",
       "    <tr>\n",
       "      <th>1</th>\n",
       "      <td>2539.739258</td>\n",
       "      <td>866.369924</td>\n",
       "      <td>3</td>\n",
       "      <td>8</td>\n",
       "      <td>True</td>\n",
       "    </tr>\n",
       "    <tr>\n",
       "      <th>2</th>\n",
       "      <td>2071.848633</td>\n",
       "      <td>636.202797</td>\n",
       "      <td>4</td>\n",
       "      <td>10</td>\n",
       "      <td>True</td>\n",
       "    </tr>\n",
       "    <tr>\n",
       "      <th>4</th>\n",
       "      <td>1994.492554</td>\n",
       "      <td>1208.957270</td>\n",
       "      <td>5</td>\n",
       "      <td>7</td>\n",
       "      <td>True</td>\n",
       "    </tr>\n",
       "    <tr>\n",
       "      <th>5</th>\n",
       "      <td>1853.128906</td>\n",
       "      <td>896.764767</td>\n",
       "      <td>4</td>\n",
       "      <td>8</td>\n",
       "      <td>True</td>\n",
       "    </tr>\n",
       "  </tbody>\n",
       "</table>\n",
       "</div>"
      ],
      "text/plain": [
       "            HT          MHT  NBJets  NJets  Passes_Cuts\n",
       "0  1339.817749   486.756073       2      9         True\n",
       "1  2539.739258   866.369924       3      8         True\n",
       "2  2071.848633   636.202797       4     10         True\n",
       "4  1994.492554  1208.957270       5      7         True\n",
       "5  1853.128906   896.764767       4      8         True"
      ]
     },
     "execution_count": 6,
     "metadata": {},
     "output_type": "execute_result"
    }
   ],
   "source": [
    "df_chopped = df.query('Passes_Cuts == True')\n",
    "df_chopped.head()"
   ]
  },
  {
   "cell_type": "markdown",
   "metadata": {},
   "source": [
    "### Plotting in MatPlotLib:\n",
    "\n",
    "Now lets overlay the plots of the same variable (normalised) with and without cuts applied:\n",
    "\n",
    "(we can change which we want by redefining 'var')"
   ]
  },
  {
   "cell_type": "code",
   "execution_count": 7,
   "metadata": {},
   "outputs": [
    {
     "data": {
      "image/png": "[encoded data removed]",
      "text/plain": [
       "<Figure size 432x288 with 1 Axes>"
      ]
     },
     "metadata": {},
     "output_type": "display_data"
    }
   ],
   "source": [
    "# vars are: MHT, HT, NJets, NBJets\n",
    "var = 'MHT'\n",
    "\n",
    "# We can redefine our query too\n",
    "query = 'HT > 1000. & MHT > 450. & NJets > 3 & NBJets >= 0'\n",
    "df_chopped = df.query(query)\n",
    "\n",
    "plt.figure()\n",
    "plt.hist(df[var], 20, density=True, label='No Cuts')\n",
    "plt.hist(df_chopped[var], 20, density=True, label=query, alpha=0.7)\n",
    "plt.xlabel(var)\n",
    "plt.show()"
   ]
  },
  {
   "cell_type": "markdown",
   "metadata": {},
   "source": [
    "## Bonus extra fun game: 2D plots with marginal histograms!\n",
    "\n",
    "Here's a little wrinkle I did with Seaborn, but it requires some fiddling.\n",
    "\n",
    "The fiddly bits I'll put into a function so we needn't worry about them again."
   ]
  },
  {
   "cell_type": "code",
   "execution_count": 14,
   "metadata": {},
   "outputs": [],
   "source": [
    "sns.set_style(\"white\")\n",
    "\n",
    "def Plot2DSeaborn(df, X, Y, nBins=20, hex=False):\n",
    "\n",
    "    plt.figure()\n",
    "\n",
    "    # Set up the 2D grid\n",
    "    g = sns.JointGrid(x=df[X], y=df[Y], space=0.)\n",
    "    if hex:\n",
    "        g.plot_joint(plt.hexbin, cmap='BuPu', gridsize=20)\n",
    "    else:\n",
    "        g.plot_joint(plt.hist2d, cmap='BuPu', bins=nBins)\n",
    "\n",
    "    cm = plt.cm.get_cmap('BuPu')\n",
    "\n",
    "    # x-axis marginal histogram\n",
    "    nx, binsx, patchesx = g.ax_marg_x.hist(df[X], log=False, bins=nBins)\n",
    "    colx = (nx-nx.min())/(nx.max()-nx.min())\n",
    "    # Set the colours to match the 2D grid\n",
    "    for c, p in zip(colx, patchesx):\n",
    "        plt.setp(p, 'facecolor', cm(c))\n",
    "\n",
    "    # y-axis marginal histogram\n",
    "    ny, binsy, patchesy = g.ax_marg_y.hist(df[Y], bins=nBins, log=False, orientation='horizontal')\n",
    "    coly = (ny-ny.min())/(ny.max()-ny.min())\n",
    "    # Set the colours to match the 2D grid\n",
    "    for c, p in zip(coly, patchesy):\n",
    "        plt.setp(p, 'facecolor', cm(c))\n",
    "\n",
    "    g.set_axis_labels(X, Y, fontsize=14)\n",
    "\n",
    "    # Rearrange the canvas a little to accommodate the marginals\n",
    "    plt.subplots_adjust(left=0.15, right=0.9, top=0.9, bottom=0.15)\n",
    "    cax = g.fig.add_axes([.91, .3, .02, .3])  # x, y, width, height\n",
    "    plt.colorbar(cax=cax)\n",
    "    \n",
    "    plt.show()"
   ]
  },
  {
   "cell_type": "markdown",
   "metadata": {},
   "source": [
    "Ok, now we can call this function to plot two distributions:"
   ]
  },
  {
   "cell_type": "code",
   "execution_count": 28,
   "metadata": {},
   "outputs": [
    {
     "data": {
      "text/plain": [
       "<Figure size 432x288 with 0 Axes>"
      ]
     },
     "metadata": {},
     "output_type": "display_data"
    },
    {
     "data": {
      "image/png": "[encoded data removed]",
      "text/plain": [
       "<Figure size 432x432 with 4 Axes>"
      ]
     },
     "metadata": {},
     "output_type": "display_data"
    }
   ],
   "source": [
    "# Remember, vars are MHT, HT, NJets, NBJets\n",
    "\n",
    "var_x = 'MHT'\n",
    "var_y = 'HT'\n",
    "\n",
    "query = 'HT > 0. & MHT > 0. & NJets > -1 & NBJets > -1'\n",
    "Plot2DSeaborn(df, var_x, var_y, nBins=20)"
   ]
  },
  {
   "cell_type": "code",
   "execution_count": null,
   "metadata": {},
   "outputs": [],
   "source": []
  }
 ],
 "metadata": {
  "kernelspec": {
   "display_name": "Python 3",
   "language": "python",
   "name": "python3"
  },
  "language_info": {
   "codemirror_mode": {
    "name": "ipython",
    "version": 3
   },
   "file_extension": ".py",
   "mimetype": "text/x-python",
   "name": "python",
   "nbconvert_exporter": "python",
   "pygments_lexer": "ipython3",
   "version": "3.6.3"
  }
 },
 "nbformat": 4,
 "nbformat_minor": 2
}
